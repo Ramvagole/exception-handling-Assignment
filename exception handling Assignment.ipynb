{
 "cells": [
  {
   "cell_type": "code",
   "execution_count": null,
   "id": "1d8f509a-1a39-4ef3-b098-dbedcb1ab42d",
   "metadata": {},
   "outputs": [],
   "source": [
    "#Q1):-\n",
    "Built-in exceptions offer information about Python-related problems, and custom exceptions will add information about project-related problems. \n",
    "That way, you can design your code in a way that combines Python code with the language of the project."
   ]
  },
  {
   "cell_type": "code",
   "execution_count": null,
   "id": "fe3612d5-2a9c-4671-84bf-2e553a9496a8",
   "metadata": {},
   "outputs": [],
   "source": [
    "#Q2):-\n",
    "import inspect\n",
    "def treeClass(cls, ind = 0):\n",
    "    print ('-' * ind, cls.__name__)\n",
    "    for i in cls.__subclasses__():\n",
    "        treeClass(i, ind + 3)\n",
    "inspect.getclasstree(inspect.getmro(BaseException))\n",
    "treeClass(BaseException)"
   ]
  },
  {
   "cell_type": "code",
   "execution_count": null,
   "id": "0db9800a-e722-4a7f-b238-895ea59286d3",
   "metadata": {},
   "outputs": [],
   "source": [
    "#Q3):-\n",
    "OverFlowError\n",
    "ZeroDivisionError\n",
    "FloatingPointError\n",
    "These errors are all capable of crashing a code in Python.\n",
    "It is essential to catch an error because you do not want your code to crash as a result of incorrect input from you or a user.\n",
    "Example:-\n",
    "try:\n",
    "    arithmetic = 5/0\n",
    "    print(arithmetic)\n",
    "except ArithmeticError:\n",
    "    print('You have just made an Arithmetic error')\n",
    "\n",
    "Example:-\n",
    "j = 5.0\n",
    "try:\n",
    "    for i in range(1, 1000):\n",
    "        j = j**i\n",
    "except ArithmeticError as e:\n",
    "    print(f\"{e}, {e.__class__}\")"
   ]
  },
  {
   "cell_type": "code",
   "execution_count": null,
   "id": "1b186cfe-f919-4631-be9d-cbdb28602593",
   "metadata": {},
   "outputs": [],
   "source": [
    "#Q4):-\n",
    "The LookupError exception in Python forms the base class for all \n",
    "exceptions that are raised when an index or a key is not found for a sequence or dictionary respectively.\n",
    "Example:-\n",
    "x = [1, 2, 3, 4]\n",
    "try:\n",
    "    print(x[10])\n",
    "except LookupError as e:\n",
    "    print(f\"{e}, {e.__class__}\")"
   ]
  },
  {
   "cell_type": "code",
   "execution_count": null,
   "id": "0bf51f3b-66f3-4f02-a8a7-55f0abb19ef6",
   "metadata": {},
   "outputs": [],
   "source": [
    "#Q5):-\n",
    "In Python, ImportError occurs when the Python program tries to import module which does not exist in the private table. \n",
    "This exception can be avoided using exception handling using try and except blocks. We also saw examples of how the ImportError occurs and how it is handled."
   ]
  },
  {
   "cell_type": "code",
   "execution_count": null,
   "id": "aeeff804-717f-471c-8d22-0ac5f24a3dad",
   "metadata": {},
   "outputs": [],
   "source": [
    "#Q6):-\n",
    "Explicit is better than implicit.\n",
    "Exceptions in Python have the following clauses:\n",
    "Flat is better than nested.\n",
    "Write custom exceptions.\n",
    "Keep your try/except blocks narrow.\n",
    "Actually use them.\n",
    "Verbose logging.\n",
    "Rely on tools (remote environments)"
   ]
  }
 ],
 "metadata": {
  "kernelspec": {
   "display_name": "Python 3 (ipykernel)",
   "language": "python",
   "name": "python3"
  },
  "language_info": {
   "codemirror_mode": {
    "name": "ipython",
    "version": 3
   },
   "file_extension": ".py",
   "mimetype": "text/x-python",
   "name": "python",
   "nbconvert_exporter": "python",
   "pygments_lexer": "ipython3",
   "version": "3.10.8"
  }
 },
 "nbformat": 4,
 "nbformat_minor": 5
}
